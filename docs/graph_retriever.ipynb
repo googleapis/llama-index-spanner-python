{
  "cells": [
    {
      "cell_type": "markdown",
      "metadata": {
        "id": "7VBkjcqNNxEd"
      },
      "source": [
        "# Google Spanner\n",
        "\n",
        "> [Spanner](https://cloud.google.com/spanner) is a highly scalable database that combines unlimited scalability with relational semantics, such as secondary indexes, strong consistency, schemas, and SQL providing 99.999% availability in one easy solution.\n",
        "\n",
        "This notebook goes over how to use `Spanner` for GraphRAG with `SpannerPropertyGraphStore`, `SpannerGraphTextToGQLRetriever` and `SpannerGraphCustomRetriever` class.\n",
        "\n",
        "Learn more about the package on [GitHub](https://github.com/googleapis/llama-index-spanner-python/).\n",
        "\n",
        "[![Open In Colab](https://colab.research.google.com/assets/colab-badge.svg)](https://colab.research.google.com/github/googleapis/llama-index-spanner-python/blob/main/docs/graph_retriever.ipynb)"
      ]
    },
    {
      "cell_type": "markdown",
      "metadata": {
        "id": "HEAGYTPgNydh"
      },
      "source": [
        "## Before You Begin\n",
        "\n",
        "To run this notebook, you will need to do the following:\n",
        "\n",
        " * [Create a Google Cloud Project](https://developers.google.com/workspace/guides/create-project)\n",
        " * [Enable the Cloud Spanner API](https://console.cloud.google.com/flows/enableapi?apiid=spanner.googleapis.com)\n",
        " * [Create a Spanner instance](https://cloud.google.com/spanner/docs/create-manage-instances)\n",
        " * [Create a Spanner database](https://cloud.google.com/spanner/docs/create-manage-databases)"
      ]
    },
    {
      "cell_type": "markdown",
      "metadata": {
        "id": "cboPIg-yOcxS"
      },
      "source": [
        "### 🦜🔗 Library Installation\n",
        "The integration lives in its own `llama-index-google-spanner` package, so we need to install it."
      ]
    },
    {
      "cell_type": "code",
      "execution_count": null,
      "metadata": {
        "id": "AOWh6QKYVdDp"
      },
      "outputs": [],
      "source": [
        "%pip install --upgrade --quiet llama-index-google-spanner json-repair pyvis"
      ]
    },
    {
      "cell_type": "markdown",
      "metadata": {
        "id": "M7MqpDhkOiP-"
      },
      "source": [
        "**Colab only:** Uncomment the following cell to restart the kernel or use the button to restart the kernel. For Vertex AI Workbench you can restart the terminal using the button on top."
      ]
    },
    {
      "cell_type": "code",
      "execution_count": null,
      "metadata": {
        "id": "xzgVZv0POj17"
      },
      "outputs": [],
      "source": [
        "# # Automatically restart kernel after installs so that your environment can access the new packages\n",
        "import IPython\n",
        "\n",
        "app = IPython.Application.instance()\n",
        "app.kernel.do_shutdown(True)"
      ]
    },
    {
      "cell_type": "markdown",
      "metadata": {
        "id": "zfIhwIryOls1"
      },
      "source": [
        "### 🔐 Authentication\n",
        "Authenticate to Google Cloud as the IAM user logged into this notebook in order to access your Google Cloud Project.\n",
        "\n",
        "* If you are using Colab to run this notebook, use the cell below and continue.\n",
        "* If you are using Vertex AI Workbench, check out the setup instructions [here](https://github.com/GoogleCloudPlatform/generative-ai/tree/main/setup-env)."
      ]
    },
    {
      "cell_type": "code",
      "execution_count": null,
      "metadata": {
        "id": "EWOkHI7XOna2"
      },
      "outputs": [],
      "source": [
        "from google.colab import auth\n",
        "\n",
        "auth.authenticate_user()"
      ]
    },
    {
      "cell_type": "markdown",
      "metadata": {
        "id": "6xHXneICOpsB"
      },
      "source": [
        "### ☁ Set Your Google Cloud Project\n",
        "Set your Google Cloud project so that you can leverage Google Cloud resources within this notebook.\n",
        "\n",
        "If you don't know your project ID, try the following:\n",
        "\n",
        "* Run `gcloud config list`.\n",
        "* Run `gcloud projects list`.\n",
        "* See the support page: [Locate the project ID](https://support.google.com/googleapi/answer/7014113)."
      ]
    },
    {
      "cell_type": "code",
      "execution_count": null,
      "metadata": {
        "id": "hF0481BGOsS8"
      },
      "outputs": [],
      "source": [
        "# @markdown Please fill in the value below with your Google Cloud project ID and then run the cell.\n",
        "\n",
        "PROJECT_ID = \"my-project-id\"  # @param {type:\"string\"}\n",
        "\n",
        "# Set the project id\n",
        "!gcloud config set project {PROJECT_ID}\n",
        "%env GOOGLE_CLOUD_PROJECT={PROJECT_ID}"
      ]
    },
    {
      "cell_type": "markdown",
      "metadata": {
        "id": "4TiC0RbhOwUu"
      },
      "source": [
        "### 💡 API Enablement\n",
        "The `llama-index-google-spanner` package requires that you [enable the Spanner API](https://console.cloud.google.com/flows/enableapi?apiid=spanner.googleapis.com) in your Google Cloud Project."
      ]
    },
    {
      "cell_type": "code",
      "execution_count": null,
      "metadata": {
        "id": "9f3fJd5eOyRr"
      },
      "outputs": [],
      "source": [
        "# enable Spanner API\n",
        "!gcloud services enable spanner.googleapis.com"
      ]
    },
    {
      "cell_type": "markdown",
      "metadata": {
        "id": "k5pxMMiMOzt7"
      },
      "source": [
        "## Basic Usage"
      ]
    },
    {
      "cell_type": "markdown",
      "metadata": {
        "id": "mtDbLU5sO2iA"
      },
      "source": [
        "### Set Spanner database values\n",
        "Find your database values, in the [Spanner Instances page](https://console.cloud.google.com/spanner?_ga=2.223735448.2062268965.1707700487-2088871159.1707257687)."
      ]
    },
    {
      "cell_type": "code",
      "execution_count": null,
      "metadata": {
        "id": "C-I8VTIcO442"
      },
      "outputs": [],
      "source": [
        "# @title Set Your Values Here { display-mode: \"form\" }\n",
        "\n",
        "INSTANCE = \"\"  # @param {type: \"string\"}\n",
        "DATABASE = \"\"  # @param {type: \"string\"}\n",
        "GRAPH_NAME = \"\"  # @param {type: \"string\"}"
      ]
    },
    {
      "cell_type": "markdown",
      "metadata": {
        "id": "kpAv-tpcO_iL"
      },
      "source": [
        "### SpannerGraphStore\n",
        "\n",
        "To initialize the `SpannerPropertyGraphStore` class you need to provide 3 required arguments and other arguments are optional and only need to pass if it's different from default ones\n",
        "\n",
        "1.   a Spanner instance id;\n",
        "2.   a Spanner database id belongs to the above instance id;\n",
        "3.   a Spanner graph name used to create a graph in the above database."
      ]
    },
    {
      "cell_type": "code",
      "execution_count": 3,
      "metadata": {
        "id": "u589YapWQFb8"
      },
      "outputs": [
        {
          "name": "stderr",
          "output_type": "stream",
          "text": [
            "/usr/local/google/home/goelshreya/.cache/pypoetry/virtualenvs/llama-index-spanner-ojzXAADi-py3.12/lib/python3.12/site-packages/google/auth/_default.py:76: UserWarning: Your application has authenticated using end user credentials from Google Cloud SDK without a quota project. You might receive a \"quota exceeded\" or \"API not enabled\" error. See the following page for troubleshooting: https://cloud.google.com/docs/authentication/adc-troubleshooting/user-creds. \n",
            "  warnings.warn(_CLOUD_SDK_CREDENTIALS_WARNING)\n",
            "/usr/local/google/home/goelshreya/.cache/pypoetry/virtualenvs/llama-index-spanner-ojzXAADi-py3.12/lib/python3.12/site-packages/google/auth/_default.py:76: UserWarning: Your application has authenticated using end user credentials from Google Cloud SDK without a quota project. You might receive a \"quota exceeded\" or \"API not enabled\" error. See the following page for troubleshooting: https://cloud.google.com/docs/authentication/adc-troubleshooting/user-creds. \n",
            "  warnings.warn(_CLOUD_SDK_CREDENTIALS_WARNING)\n"
          ]
        }
      ],
      "source": [
        "from llama_index_spanner import SpannerPropertyGraphStore\n",
        "\n",
        "graph_store = SpannerPropertyGraphStore(\n",
        "    instance_id=INSTANCE,\n",
        "    database_id=DATABASE,\n",
        "    graph_name=GRAPH_NAME,\n",
        "    use_flexible_schema=False\n",
        ")"
      ]
    },
    {
      "cell_type": "markdown",
      "metadata": {
        "id": "G7-Pe2ADQlNJ"
      },
      "source": [
        "#### Add Graph Documents to Spanner Graph"
      ]
    },
    {
      "cell_type": "code",
      "execution_count": 32,
      "metadata": {
        "id": "fP7XNu3aPl5c"
      },
      "outputs": [
        {
          "name": "stderr",
          "output_type": "stream",
          "text": [
            "Both GOOGLE_API_KEY and GEMINI_API_KEY are set. Using GOOGLE_API_KEY.\n",
            "Both GOOGLE_API_KEY and GEMINI_API_KEY are set. Using GOOGLE_API_KEY.\n",
            "/usr/local/google/home/goelshreya/.cache/pypoetry/virtualenvs/llama-index-spanner-ojzXAADi-py3.12/lib/python3.12/site-packages/tqdm/auto.py:21: TqdmWarning: IProgress not found. Please update jupyter and ipywidgets. See https://ipywidgets.readthedocs.io/en/stable/user_install.html\n",
            "  from .autonotebook import tqdm as notebook_tqdm\n",
            "Parsing nodes: 100%|██████████| 4/4 [00:00<00:00, 310.98it/s]\n",
            "Extracting paths from text with schema: 100%|██████████| 4/4 [00:06<00:00,  1.69s/it]\n",
            "Generating embeddings: 100%|██████████| 4/4 [00:00<00:00, 20.63it/s]\n",
            "Generating embeddings: 100%|██████████| 1/1 [00:00<00:00,  5.79it/s]\n"
          ]
        },
        {
          "name": "stdout",
          "output_type": "stream",
          "text": [
            "No schema change required...\n",
            "Insert nodes of type `text_chunk`...\n",
            "No schema change required...\n",
            "Insert nodes of type `PERSON`...\n",
            "Waiting for DDL operations to complete...\n",
            "Insert edges of type `YEAR_GRADUATEDINYEAR_PERSON`...\n",
            "Insert edges of type `COLLEGE_PARTOF_DEPARATMENT`...\n",
            "Insert edges of type `PERSON_STUDIEDINDEPARTMENT_DEPARATMENT`...\n",
            "Insert edges of type `PERSON_ALUMNIOF_COLLEGE`...\n",
            "Insert edges of type `PERSON_FOUNDED_COMPANY`...\n",
            "Insert edges of type `COMPANY_PARTOF_YEAR`...\n"
          ]
        }
      ],
      "source": [
        "# @title Extract Nodes and Edges from text snippets\n",
        "from llama_index.core.schema import Document\n",
        "from llama_index.core import PropertyGraphIndex\n",
        "from llama_index.embeddings.google_genai import GoogleGenAIEmbedding\n",
        "from llama_index.llms.google_genai import GoogleGenAI\n",
        "from llama_index.core.indices.property_graph import SchemaLLMPathExtractor\n",
        "from llama_index.core.storage import StorageContext\n",
        "from typing import Literal\n",
        "\n",
        "text_snippets = [\n",
        "    # Text snippet for students graduting from Veritas University, Computer Science Dept 2017\n",
        "    \"\"\"\n",
        "This was the graduation ceremony of 2017. A wave of jubilant graduates poured out of the\n",
        "grand halls of Veritas University, their laughter echoing across the quad. Among them were\n",
        "a cohort of exceptional students from the Computer Science department, a group that had\n",
        "become known for their collaborative spirit and innovative ideas.\n",
        "Leading the pack was Emily Davis, a coding whiz with a passion for cybersecurity, already\n",
        "fielding offers from top tech firms. Beside her walked James Rodriguez, a quiet but\n",
        "brilliant mind fascinated by artificial intelligence, dreaming of building machines that\n",
        "could understand human emotions.  Trailing slightly behind, deep in conversation, were\n",
        "Sarah Chen and Michael Patel, both aspiring game developers, eager to bring their creative\n",
        "visions to life.  And then there was  Aisha Khan, a social justice advocate who planned to\n",
        "use her coding skills to address inequality through technology.\n",
        "As they celebrated their achievements, these Veritas University Computer Science graduates\n",
        "were ready to embark on diverse paths, each carrying the potential to shape the future of\n",
        "technology in their own unique way.\n",
        "\"\"\",\n",
        "    # Text snippet for students graduting from Oakhaven University, Computer Science Dept 2016\n",
        "    \"\"\"\n",
        "The year was 2016, and a palpable buzz filled the air as the graduating class of Oakhaven\n",
        "university from Computer science and Engineering department emerged from the Beckman\n",
        "Auditorium. Among them was a group of exceptional students, renowned for their\n",
        "intellectual curiosity and groundbreaking research.\n",
        "At the forefront was Alice Johnson, a gifted programmer with a fascination for quantum\n",
        "computing, already collaborating with leading researchers in the field.  Beside her\n",
        "strode David Kim, a brilliant theorist captivated by the intricacies of cryptography,\n",
        "eager to contribute to the development of secure communication systems.  Engaged in an\n",
        "animated discussion were Maria Rodriguez and Robert Lee, both passionate about robotics\n",
        "and determined to push the boundaries of artificial intelligence.  And then there was\n",
        "Chloe Brown, a visionary with a deep interest in bioinformatics, driven to unlock the\n",
        "secrets of the human genome through computational analysis.\n",
        "As they celebrated their accomplishments, these graduates, armed with their exceptional\n",
        "skills and unwavering determination, were poised to make significant contributions to the world of computing and beyond.\n",
        "\"\"\",\n",
        "    # Text snippet mentions the company Emily Davis founded.\n",
        "    # The snippet doesn't mention that she is an alumni of Veritas University\n",
        "    \"\"\"\n",
        "Emily Davis, a name synonymous with cybersecurity innovation, turned that passion into a\n",
        "thriving business.  In the year 2022, Davis founded Ironclad Security, a company that's\n",
        "rapidly changing the landscape of cybersecurity solutions.\n",
        "\"\"\",\n",
        "    # Text snippet mentions the company Alice Johnson founded.\n",
        "    # The snippet doesn't mention that she is an alumni of Oakhaven University.\n",
        "    \"\"\"\n",
        "Alice Johnson had a vision that extended far beyond the classroom. Driven by an insatiable\n",
        "curiosity about the potential of quantum mechanics, she founded Entangled Solutions, a\n",
        "company poised to revolutionize industries through the power of quantum technology.\n",
        "Entangled Solutions distinguishes itself by focusing on practical applications of quantum\n",
        "computing.\n",
        "\"\"\",\n",
        "]\n",
        "\n",
        "# Create splits for documents\n",
        "documents = [Document(text=t) for t in text_snippets]\n",
        "llm = GoogleGenAI(\n",
        "    model=\"gemini-2.0-flash\",\n",
        ")\n",
        "embed_model = GoogleGenAIEmbedding(\n",
        "    model_name=\"text-embedding-004\", embed_batch_size=100\n",
        ")\n",
        "storage_context = StorageContext.from_defaults(graph_store=graph_store)\n",
        "\n",
        "index = PropertyGraphIndex.from_documents(\n",
        "      documents,\n",
        "      embed_model=embed_model,\n",
        "      embed_kg_nodes=True,\n",
        "      kg_extractors=[\n",
        "          SchemaLLMPathExtractor(\n",
        "            possible_entities=Literal[\"College\", \"Deparatment\", \"Person\", \"Year\", \"Company\"],\n",
        "            possible_relations=[\n",
        "                \"AlumniOf\",\n",
        "                \"StudiedInDepartment\",\n",
        "                \"PartOf\",\n",
        "                \"GraduatedInYear\",\n",
        "                \"Founded\",\n",
        "            ],\n",
        "            llm=llm,\n",
        "            max_triplets_per_chunk=500,\n",
        "            num_workers=4,\n",
        "            strict=False,\n",
        "          )\n",
        "      ],\n",
        "      llm=llm,\n",
        "      show_progress=True,\n",
        "      property_graph_store=graph_store,\n",
        "      use_async=False,\n",
        "      storage_context=storage_context,\n",
        "  )\n",
        "\n"
      ]
    },
    {
      "cell_type": "markdown",
      "metadata": {
        "id": "qlKwtdGN7kaT"
      },
      "source": [
        "### Initialize the Spanner Graph Text to GQL Retriever\n",
        "The Spanner Graph Retriever takes two parameters, a SpannerGraphStore object and a language model."
      ]
    },
    {
      "cell_type": "code",
      "execution_count": 13,
      "metadata": {
        "id": "ntK4yPV8nRn7"
      },
      "outputs": [],
      "source": [
        "from llama_index_spanner.graph_retriever import SpannerGraphTextToGQLRetriever\n",
        "\n",
        "retriever_text_to_gql = SpannerGraphTextToGQLRetriever(\n",
        "      graph_store=graph_store,\n",
        "      llm=llm,\n",
        "      include_raw_response_as_metadata=True,\n",
        "      verbose=True,\n",
        "      summarize_response=True\n",
        "  )"
      ]
    },
    {
      "cell_type": "code",
      "execution_count": 48,
      "metadata": {},
      "outputs": [
        {
          "name": "stdout",
          "output_type": "stream",
          "text": [
            "GQL Query:  MATCH (college:COLLEGE {name: 'Veritas University'})<-[:PERSON_ALUMNIOF_COLLEGE]-(person:PERSON)\n",
            "RETURN person.name AS person_name;\n",
            "Summarized Response:  The names of the people who are alumni of Veritas University are: Aisha Khan, Emily Davis, James Rodriguez, Michael Patel, and Sarah Chen.\n",
            "\n"
          ]
        }
      ],
      "source": [
        "# @title Run Spanner Graph NL2GQL Retriever\n",
        "question = \"Who are the alumni of the college id Veritas University ?\"  # @param {type:\"string\"}\n",
        "response = retriever_text_to_gql.retrieve(question)\n",
        "first_node_with_score = response[0]\n",
        "text_node = first_node_with_score.node\n",
        "response_str = text_node.text\n",
        "gql_query = text_node.metadata['query']\n",
        "print(\"GQL Query: \", gql_query)\n",
        "print(\"Summarized Response: \", response_str)\n",
        "\n"
      ]
    },
    {
      "cell_type": "code",
      "execution_count": 45,
      "metadata": {
        "colab": {
          "base_uri": "https://localhost:8080/",
          "height": 281
        },
        "id": "lcBc4tG__7Rm",
        "outputId": "e47d9f63-6769-49bc-b3a3-412c10de5c8a"
      },
      "outputs": [
        {
          "name": "stdout",
          "output_type": "stream",
          "text": [
            "GQL Query:  MATCH (company:COMPANY)<-[:PERSON_FOUNDED_COMPANY]-(person:PERSON)-[:PERSON_ALUMNIOF_COLLEGE]->(college:COLLEGE)\n",
            "RETURN company.name AS company_name, person.name AS founder_name, college.name AS college_name;\n",
            "Summarized Response:  The companies 'Entangled Solutions' and 'Ironclad Security' were founded by 'Alice Johnson' and 'Emily Davis' respectively. 'Alice Johnson' is an alumni of 'Oakhaven university' and 'Emily Davis' is an alumni of 'Veritas University'.\n",
            "\n"
          ]
        }
      ],
      "source": [
        "# @title Run Spanner Graph NL2GQL Retriever 2\n",
        "question = \"List the companies, their founders and the college they attended.\"  # @param {type:\"string\"}\n",
        "response = retriever_text_to_gql.retrieve(question)\n",
        "first_node_with_score = response[0]\n",
        "text_node = first_node_with_score.node\n",
        "response_str = text_node.text\n",
        "gql_query = text_node.metadata['query']\n",
        "print(\"GQL Query: \", gql_query)\n",
        "print(\"Summarized Response: \", response_str)"
      ]
    },
    {
      "cell_type": "code",
      "execution_count": 46,
      "metadata": {
        "colab": {
          "base_uri": "https://localhost:8080/",
          "height": 264
        },
        "id": "e6djmq1NAGOM",
        "outputId": "cb40179e-bcec-4399-df9d-a114e02b33f9"
      },
      "outputs": [
        {
          "name": "stdout",
          "output_type": "stream",
          "text": [
            "GQL Query:  MATCH (c:COLLEGE {name: 'Veritas University'})<-[:PERSON_ALUMNIOF_COLLEGE]-(p:PERSON)-[:PERSON_FOUNDED_COMPANY]->(co:COMPANY)\n",
            "RETURN co.name AS company_name, p.name AS founder_name;\n",
            "Summarized Response:  The founder Emily Davis, who is an alumni of Veritas University, founded the company Ironclad Security.\n",
            "\n"
          ]
        }
      ],
      "source": [
        "# @title Run Spanner Graph NL2GQL Retriever 3\n",
        "question = \"Which companies were founded by alumni of college id Veritas University ? Who were the founders ?\"  # @param {type:\"string\"}\n",
        "response = retriever_text_to_gql.retrieve(question)\n",
        "first_node_with_score = response[0]\n",
        "text_node = first_node_with_score.node\n",
        "response_str = text_node.text\n",
        "gql_query = text_node.metadata['query']\n",
        "print(\"GQL Query: \", gql_query)\n",
        "print(\"Summarized Response: \", response_str)"
      ]
    },
    {
      "cell_type": "markdown",
      "metadata": {
        "id": "pBMTfH12ovYt"
      },
      "source": [
        "### Initialize the Spanner Graph Custom Retriever - Combines VectorContextRetriever and SpannerGraphTextToGQLRetriever, then reranks the results.\n",
        "The Spanner Graph Retriever takes two parameters, a SpannerGraphStore object and a language model."
      ]
    },
    {
      "cell_type": "code",
      "execution_count": 8,
      "metadata": {
        "id": "UuGLO873nbt9"
      },
      "outputs": [],
      "source": [
        "from llama_index_spanner.graph_retriever import SpannerGraphCustomRetriever\n",
        "custom_retriever = SpannerGraphCustomRetriever(\n",
        "    graph_store=graph_store,\n",
        "    embed_model=embed_model,\n",
        "    llm=llm,\n",
        "    include_raw_response_as_metadata=True,\n",
        "    summarize_response=True,\n",
        "    verbose=True,\n",
        ")"
      ]
    },
    {
      "cell_type": "code",
      "execution_count": null,
      "metadata": {
        "id": "cZpfq8k-niAg"
      },
      "outputs": [
        {
          "name": "stdout",
          "output_type": "stream",
          "text": [
            "Received Response: \n",
            " Emily Davis -> ALUMNIOF -> Veritas University\n",
            "\n",
            "Sarah Chen -> ALUMNIOF -> Veritas University\n"
          ]
        }
      ],
      "source": [
        "# @title Run Spanner Graph Custom Retriever 1\n",
        "question1 = \"Who are the alumni of the college id Veritas University ?\"  # @param {type:\"string\"}\n",
        "response1 = custom_retriever.custom_retrieve(question1)\n",
        "print(\"Received Response: \\n\", response1)"
      ]
    },
    {
      "cell_type": "code",
      "execution_count": null,
      "metadata": {
        "id": "W-Vs6jpPnkcm"
      },
      "outputs": [
        {
          "name": "stdout",
          "output_type": "stream",
          "text": [
            "Received Response: \n",
            " query: MATCH (company:COMPANY)<-[:PERSON_FOUNDED_COMPANY]-(person:PERSON)-[:PERSON_ALUMNIOF_COLLEGE]->(college:COLLEGE)\n",
            "RETURN company.name AS company_name, person.name AS founder_name, college.name AS college_name;\n",
            "response: The companies 'Entangled Solutions' and 'Ironclad Security' were founded by 'Alice Johnson' and 'Emily Davis' respectively. 'Alice Johnson' is an alumni of 'Oakhaven university' and 'Emily Davis' is an alumni of 'Veritas University'.\n",
            "\n",
            "The companies 'Entangled Solutions' and 'Ironclad Security' were founded by 'Alice Johnson' and 'Emily Davis' respectively. 'Alice Johnson' is an alumni of 'Oakhaven university' and 'Emily Davis' is an alumni of 'Veritas University'.\n"
          ]
        }
      ],
      "source": [
        "# @title Run Spanner Graph Custom Retriever 2\n",
        "question2 = \"List the companies, their founders and the college they attended.\"  # @param {type:\"string\"}\n",
        "response2 = custom_retriever.custom_retrieve(question2)\n",
        "print(\"Received Response: \\n\", response2)"
      ]
    },
    {
      "cell_type": "code",
      "execution_count": null,
      "metadata": {
        "id": "ygTbgai_nm5D"
      },
      "outputs": [
        {
          "name": "stdout",
          "output_type": "stream",
          "text": [
            "Received Response: \n",
            " query: MATCH (college:COLLEGE {name: 'Veritas University'})<-[:PERSON_ALUMNIOF_COLLEGE]-(person:PERSON)-[:PERSON_FOUNDED_COMPANY]->(company:COMPANY)\n",
            "RETURN company.name AS company_name, person.name AS founder_name;\n",
            "response: The company name is Ironclad Security, and the founder's name is Emily Davis.\n",
            "\n",
            "The company name is Ironclad Security, and the founder's name is Emily Davis.\n",
            "\n",
            "Emily Davis -> FOUNDED -> Ironclad Security\n"
          ]
        }
      ],
      "source": [
        "# @title Run Spanner Graph Custom Retriever 3\n",
        "question3 = \"Which companies were founded by alumni of college id Veritas University ? Who were the founders ?\"  # @param {type:\"string\"}\n",
        "response3 = custom_retriever.custom_retrieve(question3)\n",
        "print(\"Received Response: \\n\", response3)"
      ]
    },
    {
      "cell_type": "code",
      "execution_count": null,
      "metadata": {},
      "outputs": [
        {
          "name": "stdout",
          "output_type": "stream",
          "text": [
            "Received Response: \n",
            " query: MATCH (p:PERSON)-[:PERSON_ALUMNIOF_COLLEGE]->(c:COLLEGE), (p)-[:PERSON_FOUNDED_COMPANY]->(co:COMPANY)\n",
            "RETURN p.name AS person_name, c.name AS college_name, co.name AS company_name;\n",
            "response: The query returned the following results: Alice Johnson, who attended Oakhaven university, founded Entangled Solutions; Emily Davis, who attended Veritas University, founded Ironclad Security.\n",
            "\n",
            "The query returned the following results: Alice Johnson, who attended Oakhaven university, founded Entangled Solutions; Emily Davis, who attended Veritas University, founded Ironclad Security.\n"
          ]
        }
      ],
      "source": [
        "# @title Run Spanner Graph Custom Retriever 4\n",
        "##\"Significant contributions\" is vague and judgment-based; vector search retrieves nuanced textual descriptions. The Graph retriever fills in structured parts (founder, company, college).\n",
        "\n",
        "question4 = \"Name alumni who later went on to make significant contributions to tech.\"  # @param {type:\"string\"}\n",
        "response4 = custom_retriever.custom_retrieve(question4)\n",
        "print(\"Received Response: \\n\", response4)"
      ]
    },
    {
      "cell_type": "code",
      "execution_count": null,
      "metadata": {},
      "outputs": [
        {
          "name": "stdout",
          "output_type": "stream",
          "text": [
            "Received Response: \n",
            " query: MATCH (p:PERSON)-[:PERSON_ALUMNIOF_COLLEGE]->(c:COLLEGE), (p:PERSON)-[:PERSON_FOUNDED_COMPANY]->(co:COMPANY) RETURN p.name AS founder_name\n",
            "\n",
            "response: The founder names are Alice Johnson and Emily Davis.\n",
            "\n",
            "The founder names are Alice Johnson and Emily Davis.\n",
            "\n",
            "Sarah Chen -> GRADUATEDINYEAR -> 2017\n"
          ]
        }
      ],
      "source": [
        "# @title Run Spanner Graph Custom Retriever 5\n",
        "## It uses entity attributes (gender inference from name) + company founder role.\n",
        "question5 = \"Who are the female founders among the alumni?\"  # @param {type:\"string\"}\n",
        "response5 = custom_retriever.custom_retrieve(question5)\n",
        "print(\"Received Response: \\n\", response5)"
      ]
    },
    {
      "cell_type": "code",
      "execution_count": null,
      "metadata": {},
      "outputs": [
        {
          "name": "stdout",
          "output_type": "stream",
          "text": [
            "Received Response: \n",
            " query: MATCH (p:PERSON)-[:PERSON_STUDIEDINDEPARTMENT_DEPARATMENT]->(d:DEPARATMENT), (p)-[:PERSON_FOUNDED_COMPANY]->(c:COMPANY)\n",
            "RETURN p.name AS person_name, d.name AS department_name, c.name AS company_name;\n",
            "response: Okay, here are the results for the query:\n",
            "Alice Johnson, who studied in the Computer science and Engineering department, founded Entangled Solutions. Emily Davis, who studied in the Computer Science department, founded Ironclad Security.\n",
            "\n",
            "Okay, here are the results for the query:\n",
            "Alice Johnson, who studied in the Computer science and Engineering department, founded Entangled Solutions. Emily Davis, who studied in the Computer Science department, founded Ironclad Security.\n",
            "\n",
            "Sarah Chen -> GRADUATEDINYEAR -> 2017\n"
          ]
        }
      ],
      "source": [
        "# @title Run Spanner Graph Custom Retriever 6\n",
        "## It is a Semantic bridge which needs vector understanding of interests and GQL’s mapping of entities and their relationships.\n",
        "question6 = \"Find connections between graduation interests and their real-world ventures.\"  # @param {type:\"string\"}\n",
        "response6 = custom_retriever.custom_retrieve(question6)\n",
        "print(\"Received Response: \\n\", response6)"
      ]
    },
    {
      "cell_type": "markdown",
      "metadata": {
        "id": "pM7TmfI0TEFy"
      },
      "source": [
        "#### Clean up the graph\n",
        "\n",
        "> USE IT WITH CAUTION!\n",
        "\n",
        "Clean up all the nodes/edges in your graph and remove your graph definition."
      ]
    },
    {
      "cell_type": "code",
      "execution_count": null,
      "metadata": {
        "id": "UQWq4-sITOgl"
      },
      "outputs": [],
      "source": [
        "graph_store.cleanup()"
      ]
    }
  ],
  "metadata": {
    "colab": {
      "provenance": [],
      "toc_visible": true
    },
    "kernelspec": {
      "display_name": "llama-index-spanner-ojzXAADi-py3.12",
      "language": "python",
      "name": "python3"
    },
    "language_info": {
      "codemirror_mode": {
        "name": "ipython",
        "version": 3
      },
      "file_extension": ".py",
      "mimetype": "text/x-python",
      "name": "python",
      "nbconvert_exporter": "python",
      "pygments_lexer": "ipython3",
      "version": "3.12.9"
    }
  },
  "nbformat": 4,
  "nbformat_minor": 0
}
